{
 "cells": [
  {
   "cell_type": "markdown",
   "metadata": {},
   "source": [
    "## Import"
   ]
  },
  {
   "cell_type": "code",
   "execution_count": 1,
   "metadata": {},
   "outputs": [
    {
     "name": "stderr",
     "output_type": "stream",
     "text": [
      "c:\\Users\\User\\anaconda3\\envs\\kdt\\lib\\site-packages\\tqdm\\auto.py:21: TqdmWarning: IProgress not found. Please update jupyter and ipywidgets. See https://ipywidgets.readthedocs.io/en/stable/user_install.html\n",
      "  from .autonotebook import tqdm as notebook_tqdm\n"
     ]
    }
   ],
   "source": [
    "import re\n",
    "import pandas as pd\n",
    "import numpy as np\n",
    "import random\n",
    "from sentence_transformers import SentenceTransformer\n",
    "from sklearn.cluster import KMeans"
   ]
  },
  {
   "cell_type": "markdown",
   "metadata": {},
   "source": [
    "## Random Seed"
   ]
  },
  {
   "cell_type": "code",
   "execution_count": 2,
   "metadata": {},
   "outputs": [],
   "source": [
    "SEED = 0\n",
    "\n",
    "np.random.seed(SEED)\n",
    "random.seed(SEED)"
   ]
  },
  {
   "cell_type": "markdown",
   "metadata": {},
   "source": [
    "## Load Data"
   ]
  },
  {
   "cell_type": "code",
   "execution_count": 3,
   "metadata": {},
   "outputs": [
    {
     "data": {
      "text/html": [
       "<div>\n",
       "<style scoped>\n",
       "    .dataframe tbody tr th:only-of-type {\n",
       "        vertical-align: middle;\n",
       "    }\n",
       "\n",
       "    .dataframe tbody tr th {\n",
       "        vertical-align: top;\n",
       "    }\n",
       "\n",
       "    .dataframe thead th {\n",
       "        text-align: right;\n",
       "    }\n",
       "</style>\n",
       "<table border=\"1\" class=\"dataframe\">\n",
       "  <thead>\n",
       "    <tr style=\"text-align: right;\">\n",
       "      <th></th>\n",
       "      <th>id</th>\n",
       "      <th>title</th>\n",
       "      <th>contents</th>\n",
       "    </tr>\n",
       "  </thead>\n",
       "  <tbody>\n",
       "    <tr>\n",
       "      <th>0</th>\n",
       "      <td>NEWS_00000</td>\n",
       "      <td>Spanish coach facing action in race row</td>\n",
       "      <td>MADRID (AFP) - Spanish national team coach Lui...</td>\n",
       "    </tr>\n",
       "    <tr>\n",
       "      <th>1</th>\n",
       "      <td>NEWS_00001</td>\n",
       "      <td>Bruce Lee statue for divided city</td>\n",
       "      <td>In Bosnia, where one man #39;s hero is often a...</td>\n",
       "    </tr>\n",
       "    <tr>\n",
       "      <th>2</th>\n",
       "      <td>NEWS_00002</td>\n",
       "      <td>Only Lovers Left Alive's Tilda Swinton Talks A...</td>\n",
       "      <td>Yasmine Hamdan performs 'Hal' which she also s...</td>\n",
       "    </tr>\n",
       "    <tr>\n",
       "      <th>3</th>\n",
       "      <td>NEWS_00003</td>\n",
       "      <td>Macromedia contributes to eBay Stores</td>\n",
       "      <td>Macromedia has announced a special version of ...</td>\n",
       "    </tr>\n",
       "    <tr>\n",
       "      <th>4</th>\n",
       "      <td>NEWS_00004</td>\n",
       "      <td>Qualcomm plans to phone it in on cellular repairs</td>\n",
       "      <td>Over-the-air fixes for cell phones comes to Qu...</td>\n",
       "    </tr>\n",
       "  </tbody>\n",
       "</table>\n",
       "</div>"
      ],
      "text/plain": [
       "           id                                              title  \\\n",
       "0  NEWS_00000            Spanish coach facing action in race row   \n",
       "1  NEWS_00001                  Bruce Lee statue for divided city   \n",
       "2  NEWS_00002  Only Lovers Left Alive's Tilda Swinton Talks A...   \n",
       "3  NEWS_00003              Macromedia contributes to eBay Stores   \n",
       "4  NEWS_00004  Qualcomm plans to phone it in on cellular repairs   \n",
       "\n",
       "                                            contents  \n",
       "0  MADRID (AFP) - Spanish national team coach Lui...  \n",
       "1  In Bosnia, where one man #39;s hero is often a...  \n",
       "2  Yasmine Hamdan performs 'Hal' which she also s...  \n",
       "3  Macromedia has announced a special version of ...  \n",
       "4  Over-the-air fixes for cell phones comes to Qu...  "
      ]
     },
     "execution_count": 3,
     "metadata": {},
     "output_type": "execute_result"
    }
   ],
   "source": [
    "df = pd.read_csv('news.csv')\n",
    "df.head()"
   ]
  },
  {
   "cell_type": "code",
   "execution_count": 4,
   "metadata": {},
   "outputs": [
    {
     "data": {
      "text/html": [
       "<div>\n",
       "<style scoped>\n",
       "    .dataframe tbody tr th:only-of-type {\n",
       "        vertical-align: middle;\n",
       "    }\n",
       "\n",
       "    .dataframe tbody tr th {\n",
       "        vertical-align: top;\n",
       "    }\n",
       "\n",
       "    .dataframe thead th {\n",
       "        text-align: right;\n",
       "    }\n",
       "</style>\n",
       "<table border=\"1\" class=\"dataframe\">\n",
       "  <thead>\n",
       "    <tr style=\"text-align: right;\">\n",
       "      <th></th>\n",
       "      <th>id</th>\n",
       "      <th>title</th>\n",
       "      <th>contents</th>\n",
       "      <th>text</th>\n",
       "    </tr>\n",
       "  </thead>\n",
       "  <tbody>\n",
       "    <tr>\n",
       "      <th>0</th>\n",
       "      <td>NEWS_00000</td>\n",
       "      <td>Spanish coach facing action in race row</td>\n",
       "      <td>MADRID (AFP) - Spanish national team coach Lui...</td>\n",
       "      <td>Spanish coach facing action in race row : MADR...</td>\n",
       "    </tr>\n",
       "    <tr>\n",
       "      <th>1</th>\n",
       "      <td>NEWS_00001</td>\n",
       "      <td>Bruce Lee statue for divided city</td>\n",
       "      <td>In Bosnia, where one man #39;s hero is often a...</td>\n",
       "      <td>Bruce Lee statue for divided city : In Bosnia,...</td>\n",
       "    </tr>\n",
       "    <tr>\n",
       "      <th>2</th>\n",
       "      <td>NEWS_00002</td>\n",
       "      <td>Only Lovers Left Alive's Tilda Swinton Talks A...</td>\n",
       "      <td>Yasmine Hamdan performs 'Hal' which she also s...</td>\n",
       "      <td>Only Lovers Left Alive's Tilda Swinton Talks A...</td>\n",
       "    </tr>\n",
       "    <tr>\n",
       "      <th>3</th>\n",
       "      <td>NEWS_00003</td>\n",
       "      <td>Macromedia contributes to eBay Stores</td>\n",
       "      <td>Macromedia has announced a special version of ...</td>\n",
       "      <td>Macromedia contributes to eBay Stores : Macrom...</td>\n",
       "    </tr>\n",
       "    <tr>\n",
       "      <th>4</th>\n",
       "      <td>NEWS_00004</td>\n",
       "      <td>Qualcomm plans to phone it in on cellular repairs</td>\n",
       "      <td>Over-the-air fixes for cell phones comes to Qu...</td>\n",
       "      <td>Qualcomm plans to phone it in on cellular repa...</td>\n",
       "    </tr>\n",
       "  </tbody>\n",
       "</table>\n",
       "</div>"
      ],
      "text/plain": [
       "           id                                              title  \\\n",
       "0  NEWS_00000            Spanish coach facing action in race row   \n",
       "1  NEWS_00001                  Bruce Lee statue for divided city   \n",
       "2  NEWS_00002  Only Lovers Left Alive's Tilda Swinton Talks A...   \n",
       "3  NEWS_00003              Macromedia contributes to eBay Stores   \n",
       "4  NEWS_00004  Qualcomm plans to phone it in on cellular repairs   \n",
       "\n",
       "                                            contents  \\\n",
       "0  MADRID (AFP) - Spanish national team coach Lui...   \n",
       "1  In Bosnia, where one man #39;s hero is often a...   \n",
       "2  Yasmine Hamdan performs 'Hal' which she also s...   \n",
       "3  Macromedia has announced a special version of ...   \n",
       "4  Over-the-air fixes for cell phones comes to Qu...   \n",
       "\n",
       "                                                text  \n",
       "0  Spanish coach facing action in race row : MADR...  \n",
       "1  Bruce Lee statue for divided city : In Bosnia,...  \n",
       "2  Only Lovers Left Alive's Tilda Swinton Talks A...  \n",
       "3  Macromedia contributes to eBay Stores : Macrom...  \n",
       "4  Qualcomm plans to phone it in on cellular repa...  "
      ]
     },
     "execution_count": 4,
     "metadata": {},
     "output_type": "execute_result"
    }
   ],
   "source": [
    "# 제목 + 내용\n",
    "df['text'] = df['title'] + ' : ' + df['contents']\n",
    "df.head()"
   ]
  },
  {
   "cell_type": "markdown",
   "metadata": {},
   "source": [
    "## Pre-processing"
   ]
  },
  {
   "cell_type": "code",
   "execution_count": 5,
   "metadata": {},
   "outputs": [],
   "source": [
    "def preprocess_text(text):\n",
    "    # URL 제거\n",
    "    text = re.sub(r'http\\S+|www\\S+|https\\S+', '', text, flags=re.MULTILINE)\n",
    "    \n",
    "    # 해시태그 제거\n",
    "    text = re.sub(r'#\\w+', '', text)\n",
    "    \n",
    "    # 멘션 제거\n",
    "    text = re.sub(r'@\\w+', '', text)\n",
    "    \n",
    "    # 이모지 제거\n",
    "    text = text.encode('ascii', 'ignore').decode('ascii')\n",
    "    \n",
    "    # 공백 및 특수문자 제거\n",
    "    text = re.sub(r'\\s+', ' ', text).strip()\n",
    "    \n",
    "    # 숫자 제거\n",
    "    text = re.sub(r'\\d+', '', text)\n",
    "    \n",
    "    return text.lower()"
   ]
  },
  {
   "cell_type": "code",
   "execution_count": 6,
   "metadata": {},
   "outputs": [],
   "source": [
    "df['processed_text'] = df['text'].apply(preprocess_text)"
   ]
  },
  {
   "cell_type": "markdown",
   "metadata": {},
   "source": [
    "## Feature Extraction"
   ]
  },
  {
   "cell_type": "code",
   "execution_count": 7,
   "metadata": {},
   "outputs": [
    {
     "name": "stderr",
     "output_type": "stream",
     "text": [
      "Downloading .gitattributes: 100%|██████████| 1.18k/1.18k [00:00<00:00, 588kB/s]\n",
      "Downloading 1_Pooling/config.json: 100%|██████████| 190/190 [00:00<00:00, 63.3kB/s]\n",
      "Downloading README.md: 100%|██████████| 10.6k/10.6k [00:00<00:00, 3.54MB/s]\n",
      "Downloading config.json: 100%|██████████| 573/573 [00:00<00:00, 191kB/s]\n",
      "Downloading (…)ce_transformers.json: 100%|██████████| 116/116 [00:00<00:00, 58.4kB/s]\n",
      "Downloading data_config.json: 100%|██████████| 39.3k/39.3k [00:00<00:00, 19.6MB/s]\n",
      "Downloading pytorch_model.bin: 100%|██████████| 134M/134M [00:01<00:00, 111MB/s] \n",
      "Downloading (…)nce_bert_config.json: 100%|██████████| 53.0/53.0 [00:00<00:00, 26.5kB/s]\n",
      "Downloading (…)cial_tokens_map.json: 100%|██████████| 112/112 [00:00<00:00, 56.0kB/s]\n",
      "Downloading tokenizer.json: 100%|██████████| 466k/466k [00:00<00:00, 2.37MB/s]\n",
      "Downloading tokenizer_config.json: 100%|██████████| 352/352 [00:00<00:00, 117kB/s]\n",
      "Downloading train_script.py: 100%|██████████| 13.2k/13.2k [00:00<00:00, 4.39MB/s]\n",
      "Downloading vocab.txt: 100%|██████████| 232k/232k [00:00<00:00, 1.16MB/s]\n",
      "Downloading modules.json: 100%|██████████| 349/349 [00:00<00:00, 174kB/s]\n"
     ]
    }
   ],
   "source": [
    "# Sentence BERT 모델 로드\n",
    "model = SentenceTransformer('sentence-transformers/all-MiniLM-L12-v2')\n",
    "\n",
    "# 텍스트 feature 추출\n",
    "sentence_embeddings = model.encode(df['text'].tolist())\n",
    "\n",
    "# 추출한 feature를 데이터프레임에 저장\n",
    "df_embeddings = pd.DataFrame(sentence_embeddings)"
   ]
  },
  {
   "cell_type": "markdown",
   "metadata": {},
   "source": [
    "## Clustering"
   ]
  },
  {
   "cell_type": "code",
   "execution_count": 8,
   "metadata": {},
   "outputs": [],
   "source": [
    "from sklearn.mixture import GaussianMixture"
   ]
  },
  {
   "cell_type": "code",
   "execution_count": 9,
   "metadata": {},
   "outputs": [],
   "source": [
    "gaussian_mix = GaussianMixture(n_components=6, random_state=SEED)\n",
    "df['gaussian_mix'] = gaussian_mix.fit_predict(sentence_embeddings)"
   ]
  },
  {
   "cell_type": "markdown",
   "metadata": {},
   "source": [
    "## Post-processing"
   ]
  },
  {
   "cell_type": "code",
   "execution_count": 10,
   "metadata": {},
   "outputs": [
    {
     "data": {
      "text/html": [
       "<div>\n",
       "<style scoped>\n",
       "    .dataframe tbody tr th:only-of-type {\n",
       "        vertical-align: middle;\n",
       "    }\n",
       "\n",
       "    .dataframe tbody tr th {\n",
       "        vertical-align: top;\n",
       "    }\n",
       "\n",
       "    .dataframe thead th {\n",
       "        text-align: right;\n",
       "    }\n",
       "</style>\n",
       "<table border=\"1\" class=\"dataframe\">\n",
       "  <thead>\n",
       "    <tr style=\"text-align: right;\">\n",
       "      <th></th>\n",
       "      <th>id</th>\n",
       "      <th>title</th>\n",
       "      <th>contents</th>\n",
       "      <th>text</th>\n",
       "      <th>processed_text</th>\n",
       "      <th>gaussian_mix</th>\n",
       "    </tr>\n",
       "  </thead>\n",
       "  <tbody>\n",
       "    <tr>\n",
       "      <th>0</th>\n",
       "      <td>NEWS_00000</td>\n",
       "      <td>Spanish coach facing action in race row</td>\n",
       "      <td>MADRID (AFP) - Spanish national team coach Lui...</td>\n",
       "      <td>Spanish coach facing action in race row : MADR...</td>\n",
       "      <td>spanish coach facing action in race row : madr...</td>\n",
       "      <td>1</td>\n",
       "    </tr>\n",
       "    <tr>\n",
       "      <th>1</th>\n",
       "      <td>NEWS_00001</td>\n",
       "      <td>Bruce Lee statue for divided city</td>\n",
       "      <td>In Bosnia, where one man #39;s hero is often a...</td>\n",
       "      <td>Bruce Lee statue for divided city : In Bosnia,...</td>\n",
       "      <td>bruce lee statue for divided city : in bosnia,...</td>\n",
       "      <td>2</td>\n",
       "    </tr>\n",
       "    <tr>\n",
       "      <th>2</th>\n",
       "      <td>NEWS_00002</td>\n",
       "      <td>Only Lovers Left Alive's Tilda Swinton Talks A...</td>\n",
       "      <td>Yasmine Hamdan performs 'Hal' which she also s...</td>\n",
       "      <td>Only Lovers Left Alive's Tilda Swinton Talks A...</td>\n",
       "      <td>only lovers left alive's tilda swinton talks a...</td>\n",
       "      <td>2</td>\n",
       "    </tr>\n",
       "    <tr>\n",
       "      <th>3</th>\n",
       "      <td>NEWS_00003</td>\n",
       "      <td>Macromedia contributes to eBay Stores</td>\n",
       "      <td>Macromedia has announced a special version of ...</td>\n",
       "      <td>Macromedia contributes to eBay Stores : Macrom...</td>\n",
       "      <td>macromedia contributes to ebay stores : macrom...</td>\n",
       "      <td>0</td>\n",
       "    </tr>\n",
       "    <tr>\n",
       "      <th>4</th>\n",
       "      <td>NEWS_00004</td>\n",
       "      <td>Qualcomm plans to phone it in on cellular repairs</td>\n",
       "      <td>Over-the-air fixes for cell phones comes to Qu...</td>\n",
       "      <td>Qualcomm plans to phone it in on cellular repa...</td>\n",
       "      <td>qualcomm plans to phone it in on cellular repa...</td>\n",
       "      <td>0</td>\n",
       "    </tr>\n",
       "    <tr>\n",
       "      <th>...</th>\n",
       "      <td>...</td>\n",
       "      <td>...</td>\n",
       "      <td>...</td>\n",
       "      <td>...</td>\n",
       "      <td>...</td>\n",
       "      <td>...</td>\n",
       "    </tr>\n",
       "    <tr>\n",
       "      <th>59995</th>\n",
       "      <td>NEWS_59995</td>\n",
       "      <td>Dolphins Break Through, Rip Rams For First Win</td>\n",
       "      <td>But that #39;s OK. Because after a 31-14 rout ...</td>\n",
       "      <td>Dolphins Break Through, Rip Rams For First Win...</td>\n",
       "      <td>dolphins break through, rip rams for first win...</td>\n",
       "      <td>1</td>\n",
       "    </tr>\n",
       "    <tr>\n",
       "      <th>59996</th>\n",
       "      <td>NEWS_59996</td>\n",
       "      <td>After Steep Drop, Price of Oil Rises</td>\n",
       "      <td>The freefall in oil prices ended Monday on a s...</td>\n",
       "      <td>After Steep Drop, Price of Oil Rises : The fre...</td>\n",
       "      <td>after steep drop, price of oil rises : the fre...</td>\n",
       "      <td>3</td>\n",
       "    </tr>\n",
       "    <tr>\n",
       "      <th>59997</th>\n",
       "      <td>NEWS_59997</td>\n",
       "      <td>Pro football: Culpepper puts on a show</td>\n",
       "      <td>To say Daunte Culpepper was a little frustrate...</td>\n",
       "      <td>Pro football: Culpepper puts on a show : To sa...</td>\n",
       "      <td>pro football: culpepper puts on a show : to sa...</td>\n",
       "      <td>1</td>\n",
       "    </tr>\n",
       "    <tr>\n",
       "      <th>59998</th>\n",
       "      <td>NEWS_59998</td>\n",
       "      <td>Albertsons on the Rebound</td>\n",
       "      <td>The No. 2 grocer reports double-digit gains in...</td>\n",
       "      <td>Albertsons on the Rebound : The No. 2 grocer r...</td>\n",
       "      <td>albertsons on the rebound : the no.  grocer re...</td>\n",
       "      <td>3</td>\n",
       "    </tr>\n",
       "    <tr>\n",
       "      <th>59999</th>\n",
       "      <td>NEWS_59999</td>\n",
       "      <td>Cassini Craft Spies Saturn Moon Dione (AP)</td>\n",
       "      <td>AP - The Cassini spacecraft's close flyby of S...</td>\n",
       "      <td>Cassini Craft Spies Saturn Moon Dione (AP) : A...</td>\n",
       "      <td>cassini craft spies saturn moon dione (ap) : a...</td>\n",
       "      <td>2</td>\n",
       "    </tr>\n",
       "  </tbody>\n",
       "</table>\n",
       "<p>60000 rows × 6 columns</p>\n",
       "</div>"
      ],
      "text/plain": [
       "               id                                              title  \\\n",
       "0      NEWS_00000            Spanish coach facing action in race row   \n",
       "1      NEWS_00001                  Bruce Lee statue for divided city   \n",
       "2      NEWS_00002  Only Lovers Left Alive's Tilda Swinton Talks A...   \n",
       "3      NEWS_00003              Macromedia contributes to eBay Stores   \n",
       "4      NEWS_00004  Qualcomm plans to phone it in on cellular repairs   \n",
       "...           ...                                                ...   \n",
       "59995  NEWS_59995     Dolphins Break Through, Rip Rams For First Win   \n",
       "59996  NEWS_59996               After Steep Drop, Price of Oil Rises   \n",
       "59997  NEWS_59997             Pro football: Culpepper puts on a show   \n",
       "59998  NEWS_59998                          Albertsons on the Rebound   \n",
       "59999  NEWS_59999         Cassini Craft Spies Saturn Moon Dione (AP)   \n",
       "\n",
       "                                                contents  \\\n",
       "0      MADRID (AFP) - Spanish national team coach Lui...   \n",
       "1      In Bosnia, where one man #39;s hero is often a...   \n",
       "2      Yasmine Hamdan performs 'Hal' which she also s...   \n",
       "3      Macromedia has announced a special version of ...   \n",
       "4      Over-the-air fixes for cell phones comes to Qu...   \n",
       "...                                                  ...   \n",
       "59995  But that #39;s OK. Because after a 31-14 rout ...   \n",
       "59996  The freefall in oil prices ended Monday on a s...   \n",
       "59997  To say Daunte Culpepper was a little frustrate...   \n",
       "59998  The No. 2 grocer reports double-digit gains in...   \n",
       "59999  AP - The Cassini spacecraft's close flyby of S...   \n",
       "\n",
       "                                                    text  \\\n",
       "0      Spanish coach facing action in race row : MADR...   \n",
       "1      Bruce Lee statue for divided city : In Bosnia,...   \n",
       "2      Only Lovers Left Alive's Tilda Swinton Talks A...   \n",
       "3      Macromedia contributes to eBay Stores : Macrom...   \n",
       "4      Qualcomm plans to phone it in on cellular repa...   \n",
       "...                                                  ...   \n",
       "59995  Dolphins Break Through, Rip Rams For First Win...   \n",
       "59996  After Steep Drop, Price of Oil Rises : The fre...   \n",
       "59997  Pro football: Culpepper puts on a show : To sa...   \n",
       "59998  Albertsons on the Rebound : The No. 2 grocer r...   \n",
       "59999  Cassini Craft Spies Saturn Moon Dione (AP) : A...   \n",
       "\n",
       "                                          processed_text  gaussian_mix  \n",
       "0      spanish coach facing action in race row : madr...             1  \n",
       "1      bruce lee statue for divided city : in bosnia,...             2  \n",
       "2      only lovers left alive's tilda swinton talks a...             2  \n",
       "3      macromedia contributes to ebay stores : macrom...             0  \n",
       "4      qualcomm plans to phone it in on cellular repa...             0  \n",
       "...                                                  ...           ...  \n",
       "59995  dolphins break through, rip rams for first win...             1  \n",
       "59996  after steep drop, price of oil rises : the fre...             3  \n",
       "59997  pro football: culpepper puts on a show : to sa...             1  \n",
       "59998  albertsons on the rebound : the no.  grocer re...             3  \n",
       "59999  cassini craft spies saturn moon dione (ap) : a...             2  \n",
       "\n",
       "[60000 rows x 6 columns]"
      ]
     },
     "execution_count": 10,
     "metadata": {},
     "output_type": "execute_result"
    }
   ],
   "source": [
    "df"
   ]
  },
  {
   "cell_type": "code",
   "execution_count": 22,
   "metadata": {},
   "outputs": [
    {
     "data": {
      "text/plain": [
       "3      Macromedia contributes to eBay Stores : Macrom...\n",
       "4      Qualcomm plans to phone it in on cellular repa...\n",
       "5      Thomson to Back Both Blu-ray and HD-DVD : Comp...\n",
       "23     FTC Files First Lawsuit Against Spyware Concer...\n",
       "31     Sony PSP Draws Crowds and Lines on First Day (...\n",
       "41     Photos from MacExpo 2004 : With over 100 exhib...\n",
       "50     UN Predicts Boom In Robot Labor : The use of r...\n",
       "52     Amazon's Next Kindle May Have Better Battery L...\n",
       "73     Delphi, XM Unveil Handheld Satellite Radio Rec...\n",
       "74     2 Russian Officials Charged In Massive Yahoo H...\n",
       "79     Suit by Cities Says Microsoft Overcharged : ic...\n",
       "83     IT Product Guide goes beta : InfoWorld and Ope...\n",
       "97     Battle of the big games : \"Halo 2\" for the Xbo...\n",
       "110    Lan switch sales looking good for 2004 : Despi...\n",
       "119    Microsoft, Cisco: Seeing Eye-to-Eye on Network...\n",
       "125    What Apple's U2 Stunt Really Says About the Fu...\n",
       "136    IBM to use AMD's dual-core Opteron : Upgrade t...\n",
       "143    E-Card Holiday Virus Packs Ugly Punch : A new ...\n",
       "144    Two Words from Bill Gates: Computer Science : ...\n",
       "157    Move to Stop Voyeurs Mis-Using Camera Phones :...\n",
       "Name: text, dtype: object"
      ]
     },
     "execution_count": 22,
     "metadata": {},
     "output_type": "execute_result"
    }
   ],
   "source": [
    "df[df['gaussian_mix'] == 0]['text'].head(20) #Tech 4"
   ]
  },
  {
   "cell_type": "code",
   "execution_count": 21,
   "metadata": {},
   "outputs": [
    {
     "data": {
      "text/plain": [
       "0     Spanish coach facing action in race row : MADR...\n",
       "13    GAME DAY PREVIEW Game time: 6:00 PM : CHARLOTT...\n",
       "22    College Basketball: Georgia Tech, UConn Win : ...\n",
       "26    Doping case was flawed, report finds : MONTREA...\n",
       "30    Montgomerie Beats Woods in S. Korean Skins (AP...\n",
       "38    Longhorns Rip Cowboys : Cedric Benson scores f...\n",
       "39    Ricky Williams ordered to repay Dolphins : For...\n",
       "42    Thomas out of Six Nations : Wales captain Gare...\n",
       "43    Tavarez Breaks Hand After Leaving Game 4 (AP) ...\n",
       "44    Golf: Cink in command in winning NEC Invitatio...\n",
       "46    Official: Cuper Signs With Mallorca : Hector C...\n",
       "48    Stove burns hot in Seattle : The Mariners, who...\n",
       "72    Up to the Challenge : The Redskins contend tha...\n",
       "88    Expos Skipper Robinson OKs One-Year Deal (AP) ...\n",
       "94    Jordan: Ford decision was knife through the he...\n",
       "Name: text, dtype: object"
      ]
     },
     "execution_count": 21,
     "metadata": {},
     "output_type": "execute_result"
    }
   ],
   "source": [
    "df[df['gaussian_mix'] == 1]['text'].head(15) #Sports 3"
   ]
  },
  {
   "cell_type": "code",
   "execution_count": 23,
   "metadata": {},
   "outputs": [
    {
     "data": {
      "text/plain": [
       "165    F1: Move put on hold : Jenson Button is still ...\n",
       "175    Finalists Named for O'Brien Award : FORT WORTH...\n",
       "179    QB controversy? Give Bowden few minutes : Flor...\n",
       "180    TENNIS NOTEBOOK US team hopes to be more than ...\n",
       "184    Huskies face history against Cal, Tedford : Th...\n",
       "189    Consider Spain a Davis Cup certainty : Spain c...\n",
       "192    James pounds Pistons : If LeBron James was sen...\n",
       "Name: text, dtype: object"
      ]
     },
     "execution_count": 23,
     "metadata": {},
     "output_type": "execute_result"
    }
   ],
   "source": [
    "df[df['gaussian_mix'] == 1]['text'][28:35]"
   ]
  },
  {
   "cell_type": "code",
   "execution_count": 24,
   "metadata": {},
   "outputs": [
    {
     "data": {
      "text/plain": [
       "1     Bruce Lee statue for divided city : In Bosnia,...\n",
       "2     Only Lovers Left Alive's Tilda Swinton Talks A...\n",
       "6     Time to Talk Baseball : It's time to talk abou...\n",
       "10    Harry #39;s argy-bargy : PRINCE Charles has as...\n",
       "16    Fischer's Fiancee: Marriage Plans Genuine (AP)...\n",
       "20    Deere's Color Is Green : With big tractors, bi...\n",
       "21    Blake Leeper Wants to Be the First American Pa...\n",
       "24    Kentucky Fan Gets National Champs Tattoo. Let'...\n",
       "25    Be on TOP : //www.huffingtonpost.com/entry/be-...\n",
       "28    Cate Blanchett Set To Star As Lucille Ball In ...\n",
       "37    Deep Impact Space Probe Aims to Slam Into Come...\n",
       "40    Out for V-I-C-T-O-R-Y, but Missing Tiles : Mis...\n",
       "45    The Trouble with Broadcasting in a Social Worl...\n",
       "62    John Waters' Women at the Film Society of Linc...\n",
       "64    Jon Voight Is 'Concerned' About Daughter Angel...\n",
       "Name: text, dtype: object"
      ]
     },
     "execution_count": 24,
     "metadata": {},
     "output_type": "execute_result"
    }
   ],
   "source": [
    "df[df['gaussian_mix'] == 2]['text'].head(15) #Enterntainment 1"
   ]
  },
  {
   "cell_type": "code",
   "execution_count": 26,
   "metadata": {},
   "outputs": [
    {
     "data": {
      "text/plain": [
       "7      Bump Stock Maker Resumes Sales One Month After...\n",
       "27     Kmart-Sears merger about price, quality : Aver...\n",
       "49     Bribery Considered, Halliburton Notes Suggest ...\n",
       "51     Oil Falls Below \\$49 on Nigeria Cease-Fire : L...\n",
       "70     ABN Amro Profit Rises, Buoyed by Sale of Asia ...\n",
       "85     Stocks to Open Higher on Growth Outlook : NEW ...\n",
       "93     Oracle wins PeopleSoft takeover case : The lon...\n",
       "98     Producer Prices Up 0.1 Pct, Energy Drops (Reut...\n",
       "99     Rigel, Merck Form Development Partnership : NE...\n",
       "100    GM, DaimlerChrysler to develop hybrid engines ...\n",
       "102    A Lot Of Managers Want to Raise The Minimum Wa...\n",
       "103    Nortel attempts to calm fears of possible stoc...\n",
       "105    Prices climb after bombing spree : LONDON: Wor...\n",
       "111    Oil rallies to new record high : Crude oil fut...\n",
       "120    BA cancels 1,000 Heathrow flights : British Ai...\n",
       "Name: text, dtype: object"
      ]
     },
     "execution_count": 26,
     "metadata": {},
     "output_type": "execute_result"
    }
   ],
   "source": [
    "df[df['gaussian_mix'] == 3]['text'].head(15) #Buisness 0"
   ]
  },
  {
   "cell_type": "code",
   "execution_count": 27,
   "metadata": {},
   "outputs": [
    {
     "data": {
      "text/plain": [
       "29    Israel Kills 3 Palestinians in Big Gaza Incurs...\n",
       "56    Sadr #39;s aide denies entering of Iraqi polic...\n",
       "57    Former Nazi Guard Loses Canadian Court Ruling ...\n",
       "59    Afghanistan Death Toll in 2004 Up to 957 : KAN...\n",
       "60    Portugal PM, Cabinet Submit Resignations : LIS...\n",
       "61    Typhoon-Like Gusts Hit Japan; 13 Injured : TOK...\n",
       "63    Family appeals for release of UK hostage : The...\n",
       "69    Fallujah situation  #39;disastrous #39;, chari...\n",
       "71    Germany Extends Afghan Mission : The German Pa...\n",
       "75    Report Expected to Blame 24 in Iraq Abuse : WA...\n",
       "77    Poland to Cut One-Third of Its Troops in Iraq ...\n",
       "78    Burundi Agrees to Move Tutsi Refugees to Safet...\n",
       "82    Australia investigating if Iraq body could be ...\n",
       "86    Colombian militia leader dead : Bogota, Colomb...\n",
       "87    New Iraq mission for Black Watch : Troops from...\n",
       "Name: text, dtype: object"
      ]
     },
     "execution_count": 27,
     "metadata": {},
     "output_type": "execute_result"
    }
   ],
   "source": [
    "df[df['gaussian_mix'] == 4]['text'].head(15) # World 5로 변경"
   ]
  },
  {
   "cell_type": "code",
   "execution_count": 28,
   "metadata": {},
   "outputs": [
    {
     "data": {
      "text/plain": [
       "8     Obama Marks Anniversary Of 9/11 Attacks With M...\n",
       "9     Republican Congressman Says Trump Should Apolo...\n",
       "11    Kerry rolls out tax-cut plan for middle class ...\n",
       "12    Read Live Updates From The South Carolina Demo...\n",
       "14    Obama Administration Helps Wall Street Crimina...\n",
       "15    It's Not As Easy As You Think To Spot A Gerrym...\n",
       "17    Parents Of School Shooting Victims Decry 'Moro...\n",
       "18    A Fair Way to Choose Candidates for Republican...\n",
       "19    Congress Spikes Handout For Private Equity aut...\n",
       "32    Sunday Show Hosts Hit Back On Trump Administra...\n",
       "33    Memo To EPA Chief Pruitt : //www.huffingtonpos...\n",
       "34    The Folly of the Sole Superpower Writ Small au...\n",
       "35    Is E-Voting Secure? : (CBS) Nearly one third o...\n",
       "36    Agencies Postpone Issuing New Rules Until Afte...\n",
       "47    Bush author says White House applying pressure...\n",
       "Name: text, dtype: object"
      ]
     },
     "execution_count": 28,
     "metadata": {},
     "output_type": "execute_result"
    }
   ],
   "source": [
    "df[df['gaussian_mix'] == 5]['text'].head(15) # #Politic 2"
   ]
  },
  {
   "cell_type": "code",
   "execution_count": 30,
   "metadata": {},
   "outputs": [],
   "source": [
    "mapping_dict_gm = {\n",
    "    0: 4,\n",
    "    1: 3,\n",
    "    2: 1,\n",
    "    3: 0,\n",
    "    4: 5,\n",
    "    5: 2\n",
    "}"
   ]
  },
  {
   "cell_type": "code",
   "execution_count": 31,
   "metadata": {},
   "outputs": [],
   "source": [
    "df['mapping'] = df['gaussian_mix'].apply(lambda x: mapping_dict_gm[x])"
   ]
  },
  {
   "cell_type": "markdown",
   "metadata": {},
   "source": [
    "## Submission"
   ]
  },
  {
   "cell_type": "code",
   "execution_count": 32,
   "metadata": {},
   "outputs": [],
   "source": [
    "sample = pd.read_csv('sample_submission.csv')"
   ]
  },
  {
   "cell_type": "code",
   "execution_count": 33,
   "metadata": {},
   "outputs": [
    {
     "data": {
      "text/plain": [
       "0    3\n",
       "1    1\n",
       "2    1\n",
       "3    4\n",
       "4    4\n",
       "Name: category, dtype: int64"
      ]
     },
     "execution_count": 33,
     "metadata": {},
     "output_type": "execute_result"
    }
   ],
   "source": [
    "sample['category'] = df['mapping'].values\n",
    "sample['category'].head()"
   ]
  },
  {
   "cell_type": "code",
   "execution_count": 34,
   "metadata": {},
   "outputs": [],
   "source": [
    "sample.to_csv('submit_231129_2.csv', index=False)"
   ]
  }
 ],
 "metadata": {
  "kernelspec": {
   "display_name": "chan",
   "language": "python",
   "name": "python3"
  },
  "language_info": {
   "codemirror_mode": {
    "name": "ipython",
    "version": 3
   },
   "file_extension": ".py",
   "mimetype": "text/x-python",
   "name": "python",
   "nbconvert_exporter": "python",
   "pygments_lexer": "ipython3",
   "version": "3.9.18"
  },
  "orig_nbformat": 4
 },
 "nbformat": 4,
 "nbformat_minor": 2
}
